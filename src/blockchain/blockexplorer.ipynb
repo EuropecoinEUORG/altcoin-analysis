{
 "metadata": {
  "name": "",
  "signature": "sha256:5a5a32d71499b75c64093e7465d838b748a12e3a4608b717c761140a7270155f"
 },
 "nbformat": 3,
 "nbformat_minor": 0,
 "worksheets": [
  {
   "cells": [
    {
     "cell_type": "code",
     "collapsed": false,
     "input": [
      "import urllib2\n",
      "\n",
      "height = 338276\n",
      "url = 'http://blockexplorer.com/b/%s' % height\n",
      "req = urllib2.Request(url, headers={'User-Agent': 'Mozilla/5.0'})\n",
      "f = urllib2.urlopen(req)\n",
      "html = f.read()\n"
     ],
     "language": "python",
     "metadata": {},
     "outputs": [],
     "prompt_number": 24
    },
    {
     "cell_type": "code",
     "collapsed": false,
     "input": [
      "from bs4 import BeautifulSoup\n",
      "from datetime import datetime\n",
      "\n",
      "def get_timestamp(s):\n",
      "    dt = datetime.strptime(s, '%Y-%m-%d %H:%M:%S')\n",
      "    epoch = datetime(1970,1,1)\n",
      "    secs_since_epoch = (dt - epoch).total_seconds()\n",
      "    return secs_since_epoch\n",
      "\n",
      "def get_block_from_html(html):\n",
      "    soup = BeautifulSoup(html)\n",
      "    block = dict()\n",
      "    block['height'] = str(soup.h1.contents[0].split()[1])\n",
      "    for li in soup.find_all('li'):\n",
      "        attr = str(li.contents[0])\n",
      "        if attr == 'Difficulty':\n",
      "            value = str(li.contents[2])\n",
      "            index = value.find(' (')\n",
      "            value = value[2:index]\n",
      "            value = value.replace(' ', '')\n",
      "        else:\n",
      "            value = str(li.contents[-1])\n",
      "            if value[0] == ':':\n",
      "                value = value[2:]\n",
      "        if attr == 'Time':\n",
      "            block['timestamp'] = get_timestamp(value)\n",
      "        if attr == 'Difficulty':\n",
      "            block['difficulty'] = value\n",
      "        if attr == 'Transactions':\n",
      "            block['num_txs'] = value\n",
      "    return block"
     ],
     "language": "python",
     "metadata": {},
     "outputs": [],
     "prompt_number": 47
    },
    {
     "cell_type": "code",
     "collapsed": false,
     "input": [
      "import grequests\n",
      "\n",
      "def get_url(height):\n",
      "    url = 'http://blockexplorer.com/b/%s' % height\n",
      "    return url\n",
      "\n",
      "def write_block(response, *args, **kwargs):\n",
      "    print response\n",
      "\n",
      "heights = [0, 1, 2, 3]\n",
      "url = 'http://blockexplorer.com/b/%s' % height\n",
      "headers = {'User-Agent': 'Mozilla/5.0'}\n",
      "hooks = {'response': write_block}\n",
      "rs = (grequests.get(get_url(height), headers=headers, hooks=hooks) for height in heights)\n",
      "grequests.map(rs)\n"
     ],
     "language": "python",
     "metadata": {},
     "outputs": [
      {
       "output_type": "stream",
       "stream": "stdout",
       "text": [
        "<Response [301]>\n",
        "<Response [301]>\n",
        "<Response [301]>\n",
        "<Response [301]>\n",
        "<Response [200]>"
       ]
      },
      {
       "output_type": "stream",
       "stream": "stdout",
       "text": [
        "\n",
        "<Response [200]>\n",
        "<Response [200]>\n",
        "<Response [200]>\n"
       ]
      },
      {
       "metadata": {},
       "output_type": "pyout",
       "prompt_number": 52,
       "text": [
        "[<Response [200]>, <Response [200]>, <Response [200]>, <Response [200]>]"
       ]
      }
     ],
     "prompt_number": 52
    }
   ],
   "metadata": {}
  }
 ]
}